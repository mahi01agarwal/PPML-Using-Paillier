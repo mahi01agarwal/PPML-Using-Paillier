{
 "cells": [
  {
   "cell_type": "code",
   "execution_count": 8,
   "id": "18dbe59b",
   "metadata": {},
   "outputs": [],
   "source": [
    "import phe as paillier\n",
    "import json\n",
    "import numpy as np\n"
   ]
  },
  {
   "cell_type": "code",
   "execution_count": 2,
   "id": "ad59a2a8",
   "metadata": {},
   "outputs": [],
   "source": [
    "\n",
    "def getKeys():\n",
    "    with open('custkeys.json', 'r') as file: \n",
    "        keys=json.load(file)\n",
    "        pub_key=paillier.PaillierPublicKey(n=int(keys['public_key']['n']))\n",
    "        priv_key=paillier.PaillierPrivateKey(pub_key,keys['private_key']['p'],keys['private_key']['q'])\n",
    "        return pub_key, priv_key "
   ]
  },
  {
   "cell_type": "code",
   "execution_count": 3,
   "id": "2c7ed5df",
   "metadata": {},
   "outputs": [],
   "source": [
    "pub_key, priv_key = getKeys()"
   ]
  },
  {
   "cell_type": "code",
   "execution_count": 4,
   "id": "81a5e03e",
   "metadata": {},
   "outputs": [],
   "source": [
    "def loadAnswer():\n",
    "    with open('answer.json', 'r') as file: \n",
    "        ans=json.load(file)\n",
    "    answer=json.loads(ans)\n",
    "    return answer"
   ]
  },
  {
   "cell_type": "code",
   "execution_count": 9,
   "id": "bcf383f4",
   "metadata": {},
   "outputs": [
    {
     "name": "stdout",
     "output_type": "stream",
     "text": [
      "58990.408670302866\n"
     ]
    }
   ],
   "source": [
    "answer_file=loadAnswer()\n",
    "answer_key=paillier.PaillierPublicKey(n=int(answer_file['pubkey']['n']))\n",
    "answer = paillier.EncryptedNumber(answer_key, int(answer_file['values'][0]), int(answer_file['values'][1]))\n",
    "if (answer_key==pub_key):\n",
    "    pred_ans = (priv_key.decrypt(answer))\n",
    "    final_pred = np.exp(pred_ans)\n",
    "    print(final_pred)"
   ]
  },
  {
   "cell_type": "code",
   "execution_count": null,
   "id": "27eeb43e",
   "metadata": {},
   "outputs": [],
   "source": []
  }
 ],
 "metadata": {
  "kernelspec": {
   "display_name": "Python 3 (ipykernel)",
   "language": "python",
   "name": "python3"
  },
  "language_info": {
   "codemirror_mode": {
    "name": "ipython",
    "version": 3
   },
   "file_extension": ".py",
   "mimetype": "text/x-python",
   "name": "python",
   "nbconvert_exporter": "python",
   "pygments_lexer": "ipython3",
   "version": "3.10.9"
  }
 },
 "nbformat": 4,
 "nbformat_minor": 5
}
